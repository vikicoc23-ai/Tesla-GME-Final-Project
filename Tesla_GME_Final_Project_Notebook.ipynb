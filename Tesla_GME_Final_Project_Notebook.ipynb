{
 "cells": [
  {
   "cell_type": "markdown",
   "id": "6efdd40e",
   "metadata": {},
   "source": [
    "# Final Project: Tesla & GameStop — Stock vs Revenue Dashboard\n",
    "**Run top-to-bottom. After each Question, take a screenshot of the code + output.**\n",
    "\n",
    "If any library is missing, run the install cell below."
   ]
  },
  {
   "cell_type": "code",
   "execution_count": null,
   "id": "220cff15",
   "metadata": {},
   "outputs": [],
   "source": [
    "# If needed, uncomment to install\n",
    "# !pip install --quiet yfinance pandas requests beautifulsoup4 plotly kaleido lxml html5lib\n"
   ]
  },
  {
   "cell_type": "code",
   "execution_count": null,
   "id": "e133e6ec",
   "metadata": {},
   "outputs": [],
   "source": [
    "import warnings, re, os\n",
    "warnings.filterwarnings('ignore')\n",
    "\n",
    "import pandas as pd\n",
    "import yfinance as yf\n",
    "import requests\n",
    "from bs4 import BeautifulSoup\n",
    "import plotly.graph_objects as go\n"
   ]
  },
  {
   "cell_type": "code",
   "execution_count": null,
   "id": "729c0e3c",
   "metadata": {},
   "outputs": [],
   "source": [
    "def _clean_revenue_table(df: pd.DataFrame) -> pd.DataFrame:\n",
    "    \"\"\"Take a 2-col (Date, Revenue) table, clean currency formatting, and return a sorted DataFrame.\"\"\"\n",
    "    df = df.iloc[:, :2].copy()\n",
    "    df.columns = ['date', 'revenue']\n",
    "    df = df.dropna()\n",
    "    df['revenue'] = (df['revenue'].astype(str)\n",
    "                     .str.replace(r'\\$|,', '', regex=True)\n",
    "                     .str.strip()\n",
    "                     .replace({'': None}))\n",
    "    df['revenue'] = pd.to_numeric(df['revenue'], errors='coerce')\n",
    "    df = df.dropna(subset=['revenue'])\n",
    "    df['date'] = pd.to_datetime(df['date'])\n",
    "    return df.sort_values('date').reset_index(drop=True)\n"
   ]
  },
  {
   "cell_type": "code",
   "execution_count": null,
   "id": "b5bebc34",
   "metadata": {},
   "outputs": [],
   "source": [
    "def make_graph(stock_data: pd.DataFrame, revenue_data: pd.DataFrame, title: str = \"\"):\n",
    "    s = stock_data.copy()\n",
    "    if 'Date' in s.columns:\n",
    "        s['Date'] = pd.to_datetime(s['Date'])\n",
    "    else:\n",
    "        s = s.reset_index().rename(columns={'index': 'Date'})\n",
    "        s['Date'] = pd.to_datetime(s['Date'])\n",
    "\n",
    "    r = revenue_data.copy()\n",
    "    if 'Date' in r.columns:\n",
    "        r['Date'] = pd.to_datetime(r['Date'])\n",
    "        r = r.rename(columns={'Revenue':'revenue'})\n",
    "    else:\n",
    "        r = r.rename(columns={'date':'Date'})\n",
    "\n",
    "    start = max(s['Date'].min(), r['Date'].min())\n",
    "    end   = min(s['Date'].max(), r['Date'].max())\n",
    "    s = s[(s['Date'] >= start) & (s['Date'] <= end)]\n",
    "    r = r[(r['Date'] >= start) & (r['Date'] <= end)]\n",
    "\n",
    "    fig = go.Figure()\n",
    "    fig.add_trace(go.Scatter(x=s['Date'], y=s['Close'], name='Close Price', mode='lines'))\n",
    "    fig.add_trace(go.Bar(x=r['Date'], y=r['revenue'], name='Revenue', yaxis='y2', opacity=0.5))\n",
    "\n",
    "    fig.update_layout(\n",
    "        title=title or 'Stock Price vs Revenue',\n",
    "        xaxis=dict(title='Date'),\n",
    "        yaxis=dict(title='Close Price (USD)'),\n",
    "        yaxis2=dict(title='Revenue (USD)', overlaying='y', side='right'),\n",
    "        legend=dict(orientation='h', yanchor='bottom', y=1.02, xanchor='right', x=1),\n",
    "        bargap=0\n",
    "    )\n",
    "    fig.show()\n",
    "    # Optional: also save images if kaleido is installed\n",
    "    try:\n",
    "        safe_title = re.sub(r'[^a-zA-Z0-9_-]+', '_', title or 'chart')\n",
    "        fig.write_image(f\"{safe_title}.png\", width=1200, height=700, scale=2)\n",
    "        print(f\"Saved {safe_title}.png\")\n",
    "    except Exception as e:\n",
    "        print('(Note) Could not save PNG (kaleido missing?):', e)\n"
   ]
  },
  {
   "cell_type": "markdown",
   "id": "804572ff",
   "metadata": {},
   "source": [
    "## Question 1 — Use yfinance to Extract Tesla Stock Data"
   ]
  },
  {
   "cell_type": "code",
   "execution_count": null,
   "id": "d16c7edc",
   "metadata": {},
   "outputs": [],
   "source": [
    "tesla = yf.Ticker('TSLA')\n",
    "tesla_data = tesla.history(period='max')\n",
    "tesla_data = tesla_data.reset_index()\n",
    "tesla_data.to_csv('tesla_data.csv', index=False)\n",
    "tesla_data.head()\n"
   ]
  },
  {
   "cell_type": "markdown",
   "id": "0167af22",
   "metadata": {},
   "source": [
    "## Question 2 — Use Webscraping to Extract Tesla Revenue Data"
   ]
  },
  {
   "cell_type": "code",
   "execution_count": null,
   "id": "92c46324",
   "metadata": {},
   "outputs": [],
   "source": [
    "tesla_rev_url = 'https://www.macrotrends.net/stocks/charts/TSLA/tesla/revenue'\n",
    "html = requests.get(tesla_rev_url, headers={'User-Agent':'Mozilla/5.0'}).text\n",
    "soup = BeautifulSoup(html, 'html.parser')\n",
    "all_tables = pd.read_html(str(soup))\n",
    "candidates = []\n",
    "for t in all_tables:\n",
    "    if t.shape[1] >= 2 and ('Revenue' in ' '.join(t.columns.astype(str)) or t.iloc[:,1].astype(str).str.contains(r'\\$|,').any()):\n",
    "        candidates.append(t.iloc[:, :2])\n",
    "if not candidates:\n",
    "    raise RuntimeError('No revenue table found.')\n",
    "\n",
    "_tesla_revenue = _clean_revenue_table(candidates[0])\n",
    "tesla_revenue = _tesla_revenue.rename(columns={'date':'Date','revenue':'Revenue'})\n",
    "tesla_revenue.tail()\n"
   ]
  },
  {
   "cell_type": "markdown",
   "id": "4dcfd4d3",
   "metadata": {},
   "source": [
    "## Question 3 — Use yfinance to Extract GameStop Stock Data"
   ]
  },
  {
   "cell_type": "code",
   "execution_count": null,
   "id": "164fcd90",
   "metadata": {},
   "outputs": [],
   "source": [
    "gme = yf.Ticker('GME')\n",
    "gme_data = gme.history(period='max')\n",
    "gme_data = gme_data.reset_index()\n",
    "gme_data.to_csv('gme_data.csv', index=False)\n",
    "gme_data.head()\n"
   ]
  },
  {
   "cell_type": "markdown",
   "id": "f6bb16ad",
   "metadata": {},
   "source": [
    "## Question 4 — Use Webscraping to Extract GameStop Revenue Data"
   ]
  },
  {
   "cell_type": "code",
   "execution_count": null,
   "id": "d6fd0b4a",
   "metadata": {},
   "outputs": [],
   "source": [
    "gme_rev_url = 'https://www.macrotrends.net/stocks/charts/GME/gamestop/revenue'\n",
    "html = requests.get(gme_rev_url, headers={'User-Agent':'Mozilla/5.0'}).text\n",
    "soup = BeautifulSoup(html, 'html.parser')\n",
    "all_tables = pd.read_html(str(soup))\n",
    "candidates = []\n",
    "for t in all_tables:\n",
    "    if t.shape[1] >= 2 and ('Revenue' in ' '.join(t.columns.astype(str)) or t.iloc[:,1].astype(str).str.contains(r'\\$|,').any()):\n",
    "        candidates.append(t.iloc[:, :2])\n",
    "if not candidates:\n",
    "    raise RuntimeError('No revenue table found.')\n",
    "_gme_revenue = _clean_revenue_table(candidates[0])\n",
    "gme_revenue = _gme_revenue.rename(columns={'date':'Date','revenue':'Revenue'})\n",
    "gme_revenue.tail()\n"
   ]
  },
  {
   "cell_type": "markdown",
   "id": "84715a39",
   "metadata": {},
   "source": [
    "## Question 5 — Plot Tesla Stock Graph"
   ]
  },
  {
   "cell_type": "code",
   "execution_count": null,
   "id": "649db339",
   "metadata": {},
   "outputs": [],
   "source": [
    "make_graph(tesla_data[['Date','Close']], tesla_revenue, title='Tesla_TSLA_Close_vs_Quarterly_Revenue')"
   ]
  },
  {
   "cell_type": "markdown",
   "id": "6523c0fb",
   "metadata": {},
   "source": [
    "## Question 6 — Plot GameStop Stock Graph"
   ]
  },
  {
   "cell_type": "code",
   "execution_count": null,
   "id": "083951b0",
   "metadata": {},
   "outputs": [],
   "source": [
    "make_graph(gme_data[['Date','Close']], gme_revenue, title='GameStop_GME_Close_vs_Quarterly_Revenue')"
   ]
  },
  {
   "cell_type": "markdown",
   "id": "6f00be4c",
   "metadata": {},
   "source": [
    "## Question 7 — Share your Assignment Notebook\n",
    "Upload this notebook to GitHub/Watson Studio and share the URL."
   ]
  },
  {
   "cell_type": "code",
   "execution_count": null,
   "id": "bb0e1366",
   "metadata": {},
   "outputs": [],
   "source": [
    "# Helper: list any files generated (CSVs, PNGs if kaleido installed)\n",
    "import os\n",
    "[p for p in os.listdir('.') if p.endswith(('.csv','.png','.html'))]"
   ]
  }
 ],
 "metadata": {},
 "nbformat": 4,
 "nbformat_minor": 5
}
